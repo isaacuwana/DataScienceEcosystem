{
 "cells": [
  {
   "cell_type": "markdown",
   "id": "586740bb-ac3b-4c09-97f3-7040ffb0756d",
   "metadata": {},
   "source": [
    "Data Science Tools and Ecosystem"
   ]
  },
  {
   "cell_type": "markdown",
   "id": "16a9b4dd-2c09-4d18-bf0d-14d27343d883",
   "metadata": {},
   "source": [
    "In this notebook, Data Science Tools and Ecosystem are summarized"
   ]
  },
  {
   "cell_type": "markdown",
   "id": "86c5884e-b727-4cd5-a7ba-01cb37d2c046",
   "metadata": {},
   "source": [
    "Some of the popular languages that Data Scientists use are:\n",
    "* Python\n",
    "* Julia \n",
    "* R\n",
    "* Scala\n",
    "* SQL"
   ]
  },
  {
   "cell_type": "markdown",
   "id": "324746bd-36bb-48b6-b9bf-ea1bebd1f6e9",
   "metadata": {},
   "source": [
    "Some of the commonly used libraries used by Data Scientists include:\n",
    "* scikit-learn\n",
    "* TensorFlow\n",
    "* PyTorch\n",
    "* NumPy\n",
    "* SciPy"
   ]
  },
  {
   "cell_type": "markdown",
   "id": "87bd5f96-b0ec-432d-aeca-93f5cd5cf542",
   "metadata": {},
   "source": [
    "Data Science Tools\n",
    "* Apache Spark\n",
    "* MatLAB\n",
    "* Pandas\n",
    "* Apache Hadoop\n",
    "* Keras "
   ]
  },
  {
   "cell_type": "markdown",
   "id": "980de8d0-16ca-487b-810c-0bd20fdba6fd",
   "metadata": {},
   "source": [
    "### Below are a few examples of evaluating arithmetic expressions in Python"
   ]
  },
  {
   "cell_type": "markdown",
   "id": "f52e2453-6102-4d39-9ea4-5d08182bac47",
   "metadata": {},
   "source": [
    "This a simple arithmetic expression to mutiply then add integers"
   ]
  },
  {
   "cell_type": "code",
   "execution_count": 5,
   "id": "87e3107b-539f-437b-b0f5-b903a03a3226",
   "metadata": {},
   "outputs": [
    {
     "data": {
      "text/plain": [
       "17"
      ]
     },
     "execution_count": 5,
     "metadata": {},
     "output_type": "execute_result"
    }
   ],
   "source": [
    "(3*4)+5"
   ]
  },
  {
   "cell_type": "markdown",
   "id": "5f3e517e-763e-420e-ab88-4ee8fba1df8c",
   "metadata": {},
   "source": [
    "Formula to convert minutes to hours"
   ]
  },
  {
   "cell_type": "markdown",
   "id": "0894d213-51e8-41f7-8b12-5b9a17eb5b93",
   "metadata": {},
   "source": [
    "hours=minutes/60"
   ]
  },
  {
   "cell_type": "markdown",
   "id": "8d72e348-87dd-4968-a069-c172a71241ca",
   "metadata": {},
   "source": [
    "This will convert 200 minutes to hours by diving by 60"
   ]
  },
  {
   "cell_type": "code",
   "execution_count": 6,
   "id": "eae60e6b-01b4-4159-a76c-293056cf435d",
   "metadata": {},
   "outputs": [
    {
     "data": {
      "text/plain": [
       "3.3333333333333335"
      ]
     },
     "execution_count": 6,
     "metadata": {},
     "output_type": "execute_result"
    }
   ],
   "source": [
    "200/60"
   ]
  },
  {
   "cell_type": "markdown",
   "id": "d4ce3264-86a0-43f0-b049-b8c56a723683",
   "metadata": {},
   "source": [
    "Objectives:\n",
    "* Data science tools\n",
    "* some commonly libraries used by data scientists\n",
    "* some popular languages user by data scientists "
   ]
  },
  {
   "cell_type": "markdown",
   "id": "c26fa7d1-feaf-430a-a284-b0007d0ca7ae",
   "metadata": {},
   "source": [
    "## Author"
   ]
  },
  {
   "cell_type": "markdown",
   "id": "3c565798-37a6-4698-9531-f389fe7b5266",
   "metadata": {},
   "source": [
    "Adeyeye Isaac Uwanaobong"
   ]
  },
  {
   "cell_type": "code",
   "execution_count": null,
   "id": "dc639435-a71e-4a50-8503-96f6b427e46d",
   "metadata": {},
   "outputs": [],
   "source": []
  }
 ],
 "metadata": {
  "kernelspec": {
   "display_name": "Python",
   "language": "python",
   "name": "conda-env-python-py"
  },
  "language_info": {
   "codemirror_mode": {
    "name": "ipython",
    "version": 3
   },
   "file_extension": ".py",
   "mimetype": "text/x-python",
   "name": "python",
   "nbconvert_exporter": "python",
   "pygments_lexer": "ipython3",
   "version": "3.7.12"
  }
 },
 "nbformat": 4,
 "nbformat_minor": 5
}
